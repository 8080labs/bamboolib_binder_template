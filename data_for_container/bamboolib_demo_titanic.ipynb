{
 "cells": [
  {
   "cell_type": "markdown",
   "metadata": {},
   "source": [
    "# bamboolib demo\n",
    "\n",
    "### How to get started\n",
    "\n",
    "1. Watch the short demo video: https://youtu.be/5UR1v3uxqW4\n",
    "\n",
    "2. Execute all cells and experiment with bamboolib yourself  \n",
    "\n",
    "3. Interested in using bamboolib on your own data? [Get started](https://bamboolib.com/get-started)\n",
    "\n",
    "### Troubleshooting\n",
    "\n",
    "- Please note that bamboolib works best on **Google Chrome**. Live code export doesn't work on Firefox yet, but you can still export the code. After making transformations, simply click on **Export** - **Export code** and copy/paste the code. \n",
    "- If the ipython kernel becomes idle or you see a **Connection failed** popup, then please [launch a new Binder notebook](https://bamboolib.com/demo).\n",
    "\n",
    "If you have any other problem using bamboolib in this notebook, then please [send us an email](mailto:support@8080labs.com).\n"
   ]
  },
  {
   "cell_type": "code",
   "execution_count": null,
   "metadata": {
    "scrolled": true
   },
   "outputs": [],
   "source": [
    "import bamboolib as bam\n",
    "bam.enable()"
   ]
  },
  {
   "cell_type": "code",
   "execution_count": null,
   "metadata": {},
   "outputs": [],
   "source": [
    "import pandas as pd\n",
    "df = pd.read_csv(\"data/titanic.csv\")"
   ]
  },
  {
   "cell_type": "code",
   "execution_count": null,
   "metadata": {},
   "outputs": [],
   "source": [
    "df"
   ]
  },
  {
   "cell_type": "code",
   "execution_count": null,
   "metadata": {},
   "outputs": [],
   "source": []
  }
 ],
 "metadata": {
  "kernelspec": {
   "display_name": "Python 3",
   "language": "python",
   "name": "python3"
  },
  "language_info": {
   "codemirror_mode": {
    "name": "ipython",
    "version": 3
   },
   "file_extension": ".py",
   "mimetype": "text/x-python",
   "name": "python",
   "nbconvert_exporter": "python",
   "pygments_lexer": "ipython3",
   "version": "3.7.3"
  }
 },
 "nbformat": 4,
 "nbformat_minor": 2
}