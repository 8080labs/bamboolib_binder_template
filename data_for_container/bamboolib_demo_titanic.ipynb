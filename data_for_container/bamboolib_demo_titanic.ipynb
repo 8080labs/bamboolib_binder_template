{
 "cells": [
  {
   "cell_type": "markdown",
   "metadata": {},
   "source": [
    "# bamboolib demo\n",
    "\n",
    "1. Watch the short demo videos\n",
    "  * General intro (3min): https://youtu.be/y5F4Brf7FBs\n",
    "  * Data visualization and exploration (3min): https://youtu.be/I0a58h1OCcg\n",
    "  * Large datasets (3min): https://youtu.be/r59Q19oCMr8  \n",
    "\n",
    "2. Execute all cells and experiment with bamboolib yourself  \n",
    "\n",
    "3. Interested in using bamboolib on your own data? [Get started](https://bamboolib.com/get-started)\n",
    "\n"
   ]
  },
  {
   "cell_type": "code",
   "execution_count": null,
   "metadata": {
    "scrolled": true
   },
   "outputs": [],
   "source": [
    "import bamboolib as bam\n",
    "bam.enable()"
   ]
  },
  {
   "cell_type": "code",
   "execution_count": null,
   "metadata": {},
   "outputs": [],
   "source": [
    "import pandas as pd\n",
    "df = pd.read_csv(\"data/titanic.csv\")"
   ]
  },
  {
   "cell_type": "code",
   "execution_count": null,
   "metadata": {},
   "outputs": [],
   "source": [
    "df"
   ]
  },
  {
   "cell_type": "code",
   "execution_count": null,
   "metadata": {},
   "outputs": [],
   "source": []
  }
 ],
 "metadata": {
  "kernelspec": {
   "display_name": "Python 3",
   "language": "python",
   "name": "python3"
  },
  "language_info": {
   "codemirror_mode": {
    "name": "ipython",
    "version": 3
   },
   "file_extension": ".py",
   "mimetype": "text/x-python",
   "name": "python",
   "nbconvert_exporter": "python",
   "pygments_lexer": "ipython3",
   "version": "3.7.3"
  }
 },
 "nbformat": 4,
 "nbformat_minor": 2
}
